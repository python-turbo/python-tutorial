{
 "cells": [
  {
   "cell_type": "markdown",
   "id": "08263117",
   "metadata": {},
   "source": [
    "# Introduction to Class\n",
    "\n",
    "Python is a versatile programming language that can be used for various purposes. One of the key features of Python is the ability to use object-oriented programming (OOP) principles to create complex programs. In OOP, developers use classes to define new data types, which can then be used to create objects.\n",
    "\n",
    "In this tutorial, we will introduce the basics of classes in Python, including how to define a class, how to create objects from a class, and how to define class methods and attributes.\n",
    "\n",
    "## What is a class?\n",
    "\n",
    "In Python, a class is a blueprint for creating objects. It defines a set of attributes and methods that the objects of that type will have. Think of a class as a template for creating objects in Python.\n",
    "\n",
    "To define a class in Python, we use the class keyword, followed by the name of the class. For example, to define a class called Person, we would write:\n",
    "\n",
    "```py\n",
    "class Person:\n",
    "    pass\n",
    "```\n",
    "Here, we define a simple class called Person with no attributes or methods. The pass keyword tells Python that this class doesn't contain any code yet."
   ]
  },
  {
   "cell_type": "code",
   "execution_count": 11,
   "id": "91055893",
   "metadata": {},
   "outputs": [],
   "source": [
    "class Person:\n",
    "    pass"
   ]
  },
  {
   "cell_type": "markdown",
   "id": "65a66c13",
   "metadata": {},
   "source": [
    "## Creating objects from a class\n",
    "\n",
    "Once we have defined a class, we can create objects from it. Objects are instances of a class, and each object has its own set of attributes and methods. We create an object from a class by calling the class name followed by parentheses. For example:\n",
    "\n",
    "```py\n",
    "class Person:\n",
    "    pass\n",
    "\n",
    "person1 = Person()\n",
    "```\n",
    "Here, we create a new object person1 of the Person class. Person() calls the constructor of the class, which creates a new instance of the Person object."
   ]
  },
  {
   "cell_type": "code",
   "execution_count": 12,
   "id": "d1bcb9ee",
   "metadata": {},
   "outputs": [],
   "source": [
    "class Person:\n",
    "    pass\n",
    "\n",
    "person1 = Person()"
   ]
  },
  {
   "cell_type": "code",
   "execution_count": 13,
   "id": "cf52406f",
   "metadata": {},
   "outputs": [
    {
     "name": "stdout",
     "output_type": "stream",
     "text": [
      "<class '__main__.Person'>\n"
     ]
    }
   ],
   "source": [
    "print(type(person1))"
   ]
  },
  {
   "cell_type": "markdown",
   "id": "0220d0f4",
   "metadata": {},
   "source": [
    "## Attributes\n",
    "\n",
    "Attributes are variables that hold data for each object of a class. We can define attributes for a class by including them in the class definition. For example, let's add a name attribute to the Person class:\n",
    "\n",
    "```py\n",
    "class Person:\n",
    "    def __init__(self, name):\n",
    "        self.name = name\n",
    "\n",
    "person1 = Person(\"Alice\")\n",
    "print(person1.name)\n",
    "```\n",
    "Here, we define a constructor method called __init__, which takes the name argument and assigns it to the self.name attribute. When we create a new object person1, we pass in the argument \"Alice\", which sets the name attribute to \"Alice\". Finally, we print the name attribute of person1, which should output \"Alice\"."
   ]
  },
  {
   "cell_type": "code",
   "execution_count": 14,
   "id": "f681db4e",
   "metadata": {},
   "outputs": [
    {
     "name": "stdout",
     "output_type": "stream",
     "text": [
      "Alice\n"
     ]
    }
   ],
   "source": [
    "class Person:\n",
    "    def __init__(self, name):\n",
    "        self.name = name\n",
    "\n",
    "person1 = Person(\"Alice\")\n",
    "print(person1.name)"
   ]
  },
  {
   "cell_type": "markdown",
   "id": "6dc0c255",
   "metadata": {},
   "source": [
    "## Methods\n",
    "\n",
    "Methods are functions that belong to a class and operate on instances of that class. We can define methods for a class by including them in the class definition. For example, let's add a greet method to the Person class:\n",
    "\n",
    "```py\n",
    "class Person:\n",
    "    def __init__(self, name):\n",
    "        self.name = name\n",
    "\n",
    "    def greet(self):\n",
    "        print(f\"Hello, my name is {self.name}\")\n",
    "\n",
    "person1 = Person(\"Alice\")\n",
    "person1.greet()\n",
    "```\n",
    "Here, we define a greet method that prints a greeting message including the name of the person. We can call this method on any Person object, as shown above."
   ]
  },
  {
   "cell_type": "code",
   "execution_count": 15,
   "id": "79a2bbac",
   "metadata": {},
   "outputs": [
    {
     "name": "stdout",
     "output_type": "stream",
     "text": [
      "Hello, my name is Alice\n"
     ]
    }
   ],
   "source": [
    "class Person:\n",
    "    def __init__(self, name):\n",
    "        self.name = name\n",
    "\n",
    "    def greet(self):\n",
    "        print(f\"Hello, my name is {self.name}\")\n",
    "\n",
    "person1 = Person(\"Alice\")\n",
    "person1.greet()"
   ]
  },
  {
   "cell_type": "markdown",
   "id": "16825c6b",
   "metadata": {},
   "source": [
    "## self\n",
    "\n",
    "In Python, self is a reference to the instance of the class that is being manipulated. It is a way for the instance to refer to itself within its own methods. By convention, self is the first parameter of any method in a class. When you create an object of a class, Python automatically passes that object as the first argument to any method in the class.\n",
    "\n",
    "For example, let's say we have a class called Person that represents a person with a name and an age. We want to define a method called introduce that prints the person's name and age. Here is what the code might look like:\n",
    "\n",
    "```py\n",
    "class Person:\n",
    "    def __init__(self, name, age):\n",
    "        self.name = name\n",
    "        self.age = age\n",
    "\n",
    "    def introduce(self):\n",
    "        print(\"Hi, my name is\", self.name, \"and I am\", self.age, \"years old.\")\n",
    "```\n",
    "\n",
    "In the introduce method, we use self.name and self.age to refer to the name and age of the person object that the method is being called on. When we create a Person object and call the introduce method on it, Python automatically passes the object as the self parameter. For example:\n",
    "\n",
    "```py\n",
    "person1 = Person(\"Alice\", 30)\n",
    "person2 = Person(\"Bob\", 40)\n",
    "person1.introduce()  # prints \"Hi, my name is Alice and I am 30 years old.\"\n",
    "person2.introduce()  # prints \"Hi, my name is Bob and I am 40 years old.\"\n",
    "```"
   ]
  },
  {
   "cell_type": "code",
   "execution_count": 16,
   "id": "ca16bdf8",
   "metadata": {},
   "outputs": [],
   "source": [
    "class Person:\n",
    "    def __init__(self, name, age):\n",
    "        self.name = name\n",
    "        self.age = age\n",
    "\n",
    "    def introduce(self):\n",
    "        print(\"Hi, my name is\", self.name, \"and I am\", self.age, \"years old.\")"
   ]
  },
  {
   "cell_type": "code",
   "execution_count": 17,
   "id": "40bbf71d",
   "metadata": {},
   "outputs": [
    {
     "name": "stdout",
     "output_type": "stream",
     "text": [
      "Hi, my name is Alice and I am 30 years old.\n",
      "Hi, my name is Bob and I am 40 years old.\n"
     ]
    }
   ],
   "source": [
    "person1 = Person(\"Alice\", 30)\n",
    "person2 = Person(\"Bob\", 40)\n",
    "person1.introduce()  # prints \"Hi, my name is Alice and I am 30 years old.\"\n",
    "person2.introduce()  # prints \"Hi, my name is Bob and I am 40 years old.\""
   ]
  },
  {
   "cell_type": "markdown",
   "id": "3cfde977",
   "metadata": {},
   "source": [
    "## Inheritance\n",
    "\n",
    "Inheritance is a way to create a new class that is a modified version of an existing class. The new class (known as the subclass) inherits all the attributes and methods of the existing class (known as the superclass) and can also define its own attributes and methods.\n",
    "\n",
    "To create a subclass, we define a new class that inherits from an existing class by putting the superclass name in parentheses after the new class name. For example, let's define a Student class that inherits from the Person class:\n",
    "\n",
    "```py\n",
    "class Student(Person):\n",
    "    def __init__(self, name, age, student_id):\n",
    "        super().__init__(name, age)\n",
    "        self.student_id = student_id\n",
    "\n",
    "    def student_info(self):\n",
    "        print(f\"Name: {self.name}, age: {self.age}, Student ID: {self.student_id}\")\n",
    "\n",
    "student1 = Student(\"Bob\", 18, 12345)\n",
    "student1.student_info()\n",
    "```\n",
    "\n",
    "Here, we define a new Student class that inherits from Person. We define a new constructor method that takes a name argument and a student_id argument. We call the super().__init__(name) method to set the name attribute inherited from the Person class.\n",
    "\n",
    "We also define a new method student_info that prints the name and student_id attributes of the student object. We create a new object student1 of the Student class and call the student_info method.\n",
    "\n"
   ]
  },
  {
   "cell_type": "code",
   "execution_count": 21,
   "id": "bc27e73b",
   "metadata": {},
   "outputs": [
    {
     "name": "stdout",
     "output_type": "stream",
     "text": [
      "Name: Bob, age: 18, Student ID: 12345\n"
     ]
    }
   ],
   "source": [
    "class Student(Person):\n",
    "    def __init__(self, name, age, student_id):\n",
    "        super().__init__(name, age)\n",
    "        self.student_id = student_id\n",
    "\n",
    "    def student_info(self):\n",
    "        print(f\"Name: {self.name}, age: {self.age}, Student ID: {self.student_id}\")\n",
    "\n",
    "student1 = Student(\"Bob\", 18, 12345)\n",
    "student1.student_info()"
   ]
  },
  {
   "cell_type": "markdown",
   "id": "f293ce8e",
   "metadata": {},
   "source": [
    "# Module and Package\n",
    "\n",
    "Python modules and packages are essential tools in Python programming that help to organize code into logical and reusable blocks. Modules contain Python code, while packages are collections of modules that can be organized in a hierarchical structure.\n",
    "\n",
    "## Modules\n",
    "A module is a file containing Python definitions and statements. It's basically a way of organizing code into separate files. To use code from a module, you need to import it. For example, let's say we have a module called my_module.py (under the same directory) that defines a function called my_function. \n",
    "\n",
    "\n",
    "Here's how we would import it:\n",
    "\n",
    "```py\n",
    "import my_module\n",
    "\n",
    "my_module.my_function()\n",
    "```\n",
    "Here, we're importing the entire my_module module and calling its my_function function. Note that we're using the dot notation to access the function within the module.\n",
    "\n",
    "You can also import specific functions or variables from a module using the from keyword. For example:\n",
    "\n",
    "```py\n",
    "from my_module import my_function\n",
    "\n",
    "my_function()\n",
    "```\n",
    "Here, we're importing just the my_function function from the my_module module. We can then call it directly without using the dot notation.\n"
   ]
  },
  {
   "cell_type": "code",
   "execution_count": 22,
   "id": "6ce6d858",
   "metadata": {},
   "outputs": [
    {
     "name": "stdout",
     "output_type": "stream",
     "text": [
      "Calling my_function!\n"
     ]
    }
   ],
   "source": [
    "import my_module\n",
    "\n",
    "my_module.my_function()"
   ]
  },
  {
   "cell_type": "code",
   "execution_count": 23,
   "id": "245d782a",
   "metadata": {},
   "outputs": [
    {
     "name": "stdout",
     "output_type": "stream",
     "text": [
      "Calling my_function!\n"
     ]
    }
   ],
   "source": [
    "from my_module import my_function\n",
    "\n",
    "my_function()"
   ]
  },
  {
   "cell_type": "markdown",
   "id": "0ade6b38",
   "metadata": {},
   "source": [
    "## Package\n",
    "\n",
    "\n",
    "A package is a way of organizing related modules together in a directory hierarchy. Packages allow you to create a namespace for your code, so you can avoid naming conflicts with other code. To create a package, you simply create a directory with an empty `__init__.py` file in it. For example, let's say we have a package called my_package that contains two modules called module1.py and module2.py. \n",
    "\n",
    "```sh\n",
    "my_package/\n",
    "├── __init__.py\n",
    "├── module1.py\n",
    "└── module2.py\n",
    "```\n",
    "\n",
    "Here's how we would import them:\n",
    "\n",
    "```py\n",
    "import my_package.module1\n",
    "import my_package.module2\n",
    "\n",
    "my_package.module1.my_function()\n",
    "my_package.module2.my_other_function()\n",
    "```\n",
    "Here, we're importing the module1 and module2 modules from the my_package package. We can then use the dot notation to access the functions within each module.\n",
    "\n",
    "You can also use the from keyword to import specific modules or functions from a package. For example:\n",
    "\n",
    "```py\n",
    "from my_package import module1\n",
    "\n",
    "module1.my_function()\n",
    "```\n",
    "Here, we're importing just the module1 module from the my_package package. We can then call its my_function function directly."
   ]
  },
  {
   "cell_type": "code",
   "execution_count": 24,
   "id": "78febc9c",
   "metadata": {},
   "outputs": [
    {
     "name": "stdout",
     "output_type": "stream",
     "text": [
      "Calling my_function!\n",
      "Calling my_other_function!\n"
     ]
    }
   ],
   "source": [
    "import my_package.module1\n",
    "import my_package.module2\n",
    "\n",
    "my_package.module1.my_function()\n",
    "my_package.module2.my_other_function()"
   ]
  },
  {
   "cell_type": "code",
   "execution_count": 25,
   "id": "60e0be6e",
   "metadata": {},
   "outputs": [
    {
     "name": "stdout",
     "output_type": "stream",
     "text": [
      "Calling my_function!\n"
     ]
    }
   ],
   "source": [
    "from my_package import module1\n",
    "\n",
    "module1.my_function()"
   ]
  },
  {
   "cell_type": "markdown",
   "id": "e99da7c8",
   "metadata": {},
   "source": [
    "## Alias name\n",
    "\n",
    "It's possible to use an alias for an imported module or function by using the as keyword. This can be useful when you want to avoid naming conflicts or when you want to give a shorter or more convenient name to a module or function. Here's an example:\n",
    "\n",
    "```py\n",
    "import my_module as mm\n",
    "\n",
    "mm.my_function()\n",
    "```\n",
    "In this example, we're importing the my_module module and giving it the alias mm. We can then call its my_function function using the mm alias instead of the full module name.\n",
    "\n",
    "Similarly, you can also use an alias when importing a specific function or variable from a module using the from keyword. Here's an example:\n",
    "\n",
    "```py\n",
    "from my_module import my_function as mf\n",
    "\n",
    "mf()\n",
    "```\n",
    "In this example, we're importing the my_function function from the my_module module and giving it the alias mf. We can then call it using the mf alias instead of the original function name.\n",
    "\n",
    "Using aliases can make your code more readable and reduce typing, but be careful not to use confusing or misleading names that might make your code harder to understand."
   ]
  },
  {
   "cell_type": "code",
   "execution_count": 26,
   "id": "502afb4b",
   "metadata": {},
   "outputs": [
    {
     "name": "stdout",
     "output_type": "stream",
     "text": [
      "Calling my_function!\n"
     ]
    }
   ],
   "source": [
    "import my_module as mm\n",
    "\n",
    "mm.my_function()"
   ]
  },
  {
   "cell_type": "code",
   "execution_count": 27,
   "id": "b019a7de",
   "metadata": {},
   "outputs": [
    {
     "name": "stdout",
     "output_type": "stream",
     "text": [
      "Calling my_function!\n"
     ]
    }
   ],
   "source": [
    "from my_module import my_function as mf\n",
    "\n",
    "mf()"
   ]
  },
  {
   "cell_type": "markdown",
   "id": "e9827674",
   "metadata": {},
   "source": [
    "## Import all\n",
    "\n",
    "The syntax `from module import *` allows you to import all the names defined in the module into your current namespace. While this may seem like a convenient way to avoid typing long module names, it is generally **discouraged** in Python programming. One reason is that it can make your code harder to read and understand, as it is not immediately clear which names are defined by the module and which are defined elsewhere. It can also lead to naming conflicts if the module and the current namespace define names with the same name. Additionally, it can make debugging more difficult, since you may not know the source of a particular name in your code. As a best practice, it is recommended to only import the specific names you need from a module and to avoid using the `from module import *` syntax."
   ]
  },
  {
   "cell_type": "markdown",
   "id": "9bf42df1",
   "metadata": {},
   "source": [
    "## Standard Library\n",
    "\n",
    "\n",
    "Python comes with a lot of useful modules and packages built in, known as the standard library. These modules provide a wide range of functionality, from working with dates and times to sending emails and connecting to databases. Here are some examples of commonly used standard libraries:\n",
    "\n",
    "- `os`: provides a way to interact with the operating system, such as working with files and directories\n",
    "- `datetime`: provides classes for working with dates and times\n",
    "- `math`: provides mathematical functions like trigonometry and logarithms\n",
    "- `random`: provides functions for generating random numbers\n",
    "- `re`: provides regular expression matching operations\n",
    "- `json`: provides functions for working with JSON data\n",
    "To use a module from the standard library, you simply import it like any other module. For example:\n",
    "\n",
    "```py\n",
    "import datetime\n",
    "\n",
    "today = datetime.date.today()\n",
    "print(today)\n",
    "```\n",
    "Here, we're using the datetime module to get today's date and print it to the console."
   ]
  },
  {
   "cell_type": "code",
   "execution_count": 28,
   "id": "b1460dfc",
   "metadata": {},
   "outputs": [
    {
     "name": "stdout",
     "output_type": "stream",
     "text": [
      "2023-03-12\n"
     ]
    }
   ],
   "source": [
    "import datetime\n",
    "\n",
    "today = datetime.date.today()\n",
    "print(today)"
   ]
  },
  {
   "cell_type": "markdown",
   "id": "123f3d8b",
   "metadata": {},
   "source": [
    "### `os` module\n",
    "\n",
    "\n",
    "The os module in Python provides a way to interact with the operating system. It allows you to perform tasks such as navigating the file system, creating and deleting files and directories, and executing system commands. Here are some examples of how to use the os module:\n",
    "\n",
    "1. Getting the current working directory:\n",
    "```py\n",
    "import os\n",
    "\n",
    "current_dir = os.getcwd()\n",
    "print(current_dir)\n",
    "```\n",
    "This code imports the os module and calls the getcwd() function to get the current working directory. It then prints the directory path to the console.\n",
    "\n",
    "2. Creating a new directory:\n",
    "```py\n",
    "import os\n",
    "\n",
    "new_dir = \"new_directory\"\n",
    "os.mkdir(new_dir)\n",
    "```\n",
    "This code creates a new directory called \"new_directory\" in the current working directory using the mkdir() function.\n",
    "\n",
    "3. Running a system command:\n",
    "```py\n",
    "import os\n",
    "\n",
    "os.system(\"ls -l\")\n",
    "```\n",
    "This code executes the `ls -l` command in the system shell using the system() function.\n",
    "\n",
    "These are just a few examples of the many capabilities of the os module. It provides a powerful set of tools for interacting with the operating system and can be a valuable resource for any Python programmer."
   ]
  },
  {
   "cell_type": "code",
   "execution_count": 31,
   "id": "ec544ecb",
   "metadata": {},
   "outputs": [
    {
     "name": "stdout",
     "output_type": "stream",
     "text": [
      "/home/jasper/snippets/python\n"
     ]
    }
   ],
   "source": [
    "import os\n",
    "\n",
    "current_dir = os.getcwd()\n",
    "print(current_dir)"
   ]
  },
  {
   "cell_type": "code",
   "execution_count": 37,
   "id": "f2dbd4cb",
   "metadata": {},
   "outputs": [],
   "source": [
    "import os\n",
    "\n",
    "new_dir = \"new_directory\"\n",
    "os.makedirs(new_dir, exist_ok=True)"
   ]
  },
  {
   "cell_type": "code",
   "execution_count": 38,
   "id": "0d3db348",
   "metadata": {
    "scrolled": true
   },
   "outputs": [
    {
     "name": "stdout",
     "output_type": "stream",
     "text": [
      "total 128\n",
      "drwxr-xr-x 2 jasper jasper  4096 Mar 12 17:04 __pycache__\n",
      "-rw-r--r-- 1 jasper jasper    53 Mar 12 17:04 my_module.py\n",
      "drwxr-xr-x 4 jasper jasper  4096 Mar 12 17:09 my_package\n",
      "drwxr-xr-x 2 jasper jasper  4096 Mar 12 17:24 new_directory\n",
      "-rw-r--r-- 1 jasper jasper 42792 Mar  4 13:11 python_lesson_0.ipynb\n",
      "-rw-r--r-- 1 jasper jasper 41978 Mar  4 14:29 python_lesson_1.ipynb\n",
      "-rw-r--r-- 1 jasper jasper 21564 Mar 12 17:24 python_lesson_2.ipynb\n"
     ]
    },
    {
     "data": {
      "text/plain": [
       "0"
      ]
     },
     "execution_count": 38,
     "metadata": {},
     "output_type": "execute_result"
    }
   ],
   "source": [
    "import os\n",
    "\n",
    "os.system(\"ls -l\")"
   ]
  },
  {
   "cell_type": "markdown",
   "id": "ecaf2194",
   "metadata": {},
   "source": [
    "### `math` module\n",
    "\n",
    "Python has a built-in math module that provides various mathematical functions and constants. To use the math module, you need to import it at the beginning of your Python script or in the interactive Python console using the following code:\n",
    "\n",
    "```py\n",
    "import math\n",
    "```\n",
    "Here are some of the commonly used mathematical functions and constants provided by the math module in Python:\n",
    "\n",
    "1. Constants\n",
    "- `math.pi`: The mathematical constant pi (3.141592...).\n",
    "- `math.e`: The mathematical constant e (2.718281...).\n",
    "- `math.inf`: A floating-point positive infinity.\n",
    "\n",
    "\n",
    "2. Basic mathematical functions\n",
    "- `math.sqrt(x)`: Returns the square root of x.\n",
    "- `math.pow(x, y)`: Returns x raised to the power of y.\n",
    "- `math.exp(x)`: Returns the exponential of x.\n",
    "- `math.log(x, [base])`: Returns the logarithm of x to the given base (default is natural logarithm).\n",
    "- `math.log2(x)`: Returns the base-2 logarithm of x.\n",
    "- `math.log10(x)`: Returns the base-10 logarithm of x.\n",
    "\n",
    "3. Trigonometric functions\n",
    "- `math.sin(x)`: Returns the sine of x (in radians).\n",
    "- `math.cos(x)`: Returns the cosine of x (in radians).\n",
    "- `math.tan(x)`: Returns the tangent of x (in radians).\n",
    "\n",
    "4. Others\n",
    "- `math.fabs(x)`: Returns the absolute value of x\n",
    "- `math.isclose(a, b)`: Returns True if a and b is close else False\n",
    "\n",
    "There are many more functions and constants provided by the math module in Python. You can find more details in the Python documentation."
   ]
  },
  {
   "cell_type": "code",
   "execution_count": 54,
   "id": "3d628dc7",
   "metadata": {},
   "outputs": [],
   "source": [
    "import math"
   ]
  },
  {
   "cell_type": "code",
   "execution_count": 55,
   "id": "0c6e0efd",
   "metadata": {},
   "outputs": [
    {
     "data": {
      "text/plain": [
       "8.0"
      ]
     },
     "execution_count": 55,
     "metadata": {},
     "output_type": "execute_result"
    }
   ],
   "source": [
    "math.pow(2, 3)"
   ]
  },
  {
   "cell_type": "code",
   "execution_count": 56,
   "id": "6bd3ae52",
   "metadata": {},
   "outputs": [
    {
     "data": {
      "text/plain": [
       "8"
      ]
     },
     "execution_count": 56,
     "metadata": {},
     "output_type": "execute_result"
    }
   ],
   "source": [
    "2 ** 3"
   ]
  },
  {
   "cell_type": "code",
   "execution_count": 57,
   "id": "abfe10e4",
   "metadata": {},
   "outputs": [
    {
     "data": {
      "text/plain": [
       "2.0"
      ]
     },
     "execution_count": 57,
     "metadata": {},
     "output_type": "execute_result"
    }
   ],
   "source": [
    "math.log2(4)"
   ]
  },
  {
   "cell_type": "code",
   "execution_count": 59,
   "id": "9d098c38",
   "metadata": {},
   "outputs": [
    {
     "data": {
      "text/plain": [
       "4.0"
      ]
     },
     "execution_count": 59,
     "metadata": {},
     "output_type": "execute_result"
    }
   ],
   "source": [
    "math.log(math.exp(4))"
   ]
  },
  {
   "cell_type": "markdown",
   "id": "4e24cabf",
   "metadata": {},
   "source": [
    "### `random` module\n",
    "\n",
    "The random module in Python provides functions for generating random numbers and selecting random items from sequences. It is commonly used in applications such as simulations, games, and cryptography. Here are some examples of how to use the random module:\n",
    "\n",
    "1. Generating random integers:\n",
    "```py\n",
    "import random\n",
    "\n",
    "rand_int = random.randint(1, 10)\n",
    "print(rand_int)\n",
    "```\n",
    "This code imports the random module and generates a random integer between 1 and 10 using the randint() function.\n",
    "\n",
    "2. Selecting a random item from a list:\n",
    "```py\n",
    "import random\n",
    "\n",
    "my_list = [\"apple\", \"banana\", \"cherry\", \"date\"]\n",
    "rand_item = random.choice(my_list)\n",
    "print(rand_item)\n",
    "```\n",
    "This code creates a list of fruits and selects a random fruit from the list using the choice() function.\n",
    "\n",
    "3. Shuffling a list:\n",
    "```py\n",
    "import random\n",
    "\n",
    "my_list = [\"apple\", \"banana\", \"cherry\", \"date\"]\n",
    "random.shuffle(my_list)\n",
    "print(my_list)\n",
    "```\n",
    "This code shuffles the items in the list using the shuffle() function. The items in the list will be rearranged in a random order.\n",
    "\n",
    "The random module also provides functions for generating random floats, selecting multiple random items from a sequence, and generating random numbers with different distributions (such as the normal distribution). By using the random module, you can add an element of unpredictability and randomness to your Python programs."
   ]
  },
  {
   "cell_type": "code",
   "execution_count": 51,
   "id": "a780dc86",
   "metadata": {},
   "outputs": [
    {
     "name": "stdout",
     "output_type": "stream",
     "text": [
      "8\n"
     ]
    }
   ],
   "source": [
    "import random\n",
    "\n",
    "rand_int = random.randint(1, 10)\n",
    "print(rand_int)"
   ]
  },
  {
   "cell_type": "code",
   "execution_count": 52,
   "id": "e06be52c",
   "metadata": {},
   "outputs": [
    {
     "name": "stdout",
     "output_type": "stream",
     "text": [
      "banana\n"
     ]
    }
   ],
   "source": [
    "import random\n",
    "\n",
    "my_list = [\"apple\", \"banana\", \"cherry\", \"date\"]\n",
    "rand_item = random.choice(my_list)\n",
    "print(rand_item)"
   ]
  },
  {
   "cell_type": "code",
   "execution_count": 53,
   "id": "d9851617",
   "metadata": {},
   "outputs": [
    {
     "name": "stdout",
     "output_type": "stream",
     "text": [
      "['banana', 'cherry', 'apple', 'date']\n"
     ]
    }
   ],
   "source": [
    "import random\n",
    "\n",
    "my_list = [\"apple\", \"banana\", \"cherry\", \"date\"]\n",
    "random.shuffle(my_list)\n",
    "print(my_list)"
   ]
  },
  {
   "cell_type": "markdown",
   "id": "4279df02",
   "metadata": {},
   "source": [
    "## Third-party Libraries\n",
    "\n",
    "In addition to the standard libraries that come with Python, there are many third-party libraries available that provide additional functionality for specific tasks. Some of the most popular third-party libraries in the scientific computing and data analysis domains include:\n",
    "\n",
    "- `numpy`: provides support for large, multi-dimensional arrays and matrices, along with a library of mathematical functions to operate on them efficiently.\n",
    "\n",
    "- `pandas`: provides a high-level data manipulation tool for structured data (e.g. tables, dataframes) and has features for data cleaning, aggregation, and analysis.\n",
    "\n",
    "- `matplotlib`: provides a library for creating static, animated, and interactive visualizations in Python. It has a wide range of plotting functions for creating line plots, scatter plots, histograms, and more.\n",
    "\n",
    "- `scikit-learn`: provides a library for machine learning in Python. It includes algorithms for classification, regression, clustering, and dimensionality reduction, along with tools for model selection and evaluation.\n",
    "\n",
    "These libraries, and many others, can be installed using Python's package manager `pip`. For example\n",
    "\n",
    "```sh\n",
    "pip install numpy\n",
    "```\n",
    "\n",
    "Once installed, they can be imported into your Python scripts and used to enhance the functionality of your code. By leveraging the power of third-party libraries, you can save time and effort in developing complex applications and focus on solving the specific problem at hand."
   ]
  }
 ],
 "metadata": {
  "kernelspec": {
   "display_name": "Python 3 (ipykernel)",
   "language": "python",
   "name": "python3"
  },
  "language_info": {
   "codemirror_mode": {
    "name": "ipython",
    "version": 3
   },
   "file_extension": ".py",
   "mimetype": "text/x-python",
   "name": "python",
   "nbconvert_exporter": "python",
   "pygments_lexer": "ipython3",
   "version": "3.8.10"
  }
 },
 "nbformat": 4,
 "nbformat_minor": 5
}
